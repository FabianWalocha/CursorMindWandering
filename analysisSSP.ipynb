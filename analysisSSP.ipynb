{
 "cells": [
  {
   "cell_type": "markdown",
   "metadata": {},
   "source": [
    "## Imports"
   ]
  },
  {
   "cell_type": "code",
   "execution_count": 163,
   "metadata": {},
   "outputs": [],
   "source": [
    "import pandas as pd\n",
    "import math\n",
    "from sklearn.base import BaseEstimator, TransformerMixin\n",
    "import numpy as np\n",
    "from tqdm import tqdm_notebook as tqdm\n",
    "from boruta import BorutaPy\n",
    "from sklearn.pipeline import Pipeline\n",
    "from sklearn.ensemble import RandomForestClassifier\n",
    "from sklearn.svm import LinearSVC\n",
    "from sklearn.naive_bayes import GaussianNB\n",
    "from sklearn.model_selection import KFold\n",
    "from sklearn.metrics import classification_report\n",
    "import warnings"
   ]
  },
  {
   "cell_type": "markdown",
   "metadata": {},
   "source": [
    "## Data Read-in"
   ]
  },
  {
   "cell_type": "code",
   "execution_count": 34,
   "metadata": {},
   "outputs": [],
   "source": [
    "probes = pd.read_csv('probes.csv',sep='\\t', encoding='utf-8', header=None)\n",
    "probes.columns = ['id','created_at','updated_at','deleted_at','timestamp',\n",
    "                  'user_id','answer','page_nr','delay_time','time_to_answer']\n",
    "\n",
    "\n",
    "questionnaires = pd.DataFrame(columns=['id','created_at','updated_at','deleted_at','screen_width',\n",
    "                                      'screen_height','age','gender','level_of_education',\n",
    "                                      'using_mouse','read_war_and_peace','read_grimm'])\n",
    "# For some reason only 12 columns for 13 categories?\n",
    "with open('questionnaires.csv','r',encoding='utf-8') as f:\n",
    "    for line in f:\n",
    "        spl = line[1:-2].split('\\t')\n",
    "        questionnaires = questionnaires.append(pd.DataFrame(np.array(spl).reshape(1,-1),columns=['id','created_at','updated_at','deleted_at','screen_width',\n",
    "                                      'screen_height','age','gender','level_of_education',\n",
    "                                      'using_mouse','read_war_and_peace','read_grimm']))\n",
    "\n",
    "questions = pd.read_csv('questions.csv',sep='\\t', encoding='utf-8', header=None)\n",
    "questions.columns = ['id','created_at','updated_at','deleted_at','user_id',\n",
    "                     'correct','page_nr','book']\n",
    "\n",
    "records = pd.read_csv('records.csv',sep='\\t', encoding='utf-8', header=None)\n",
    "records.columns= ['id','created_at','updated_at', 'deleted_at','timestamp','user_id',\n",
    "                 'clicked_left', 'clicked_right','on_screen','screen_loc','x','y',\n",
    "                 'screen_width','screen_height']"
   ]
  },
  {
   "cell_type": "markdown",
   "metadata": {},
   "source": [
    "## Some relevant statistics"
   ]
  },
  {
   "cell_type": "code",
   "execution_count": 52,
   "metadata": {},
   "outputs": [
    {
     "name": "stdout",
     "output_type": "stream",
     "text": [
      "71.4% not mindwandering, 28.6% mindwandering\n",
      "# users who started experiment: 29, # users who finished experiment: 24\n",
      "# valid users read war and peace: 14, # valid who read Grimm: 10\n"
     ]
    }
   ],
   "source": [
    "labels = np.array([0 if val.answer in [1,2] else 1 for _,val in probes.iterrows()])\n",
    "\n",
    "_,count = np.unique(labels,return_counts=True)\n",
    "percs = np.round(count/np.sum(count)*100,1)\n",
    "print(\"{}% not mindwandering, {}% mindwandering\".format(percs[0], percs[1]))\n",
    "\n",
    "# users who did not finish the experiment\n",
    "usrs_all = np.unique(probes.user_id)\n",
    "blacklist = usrs_all[np.array([len(probes.user_id.loc[probes.user_id==usr]) for usr in usrs_all])<6]\n",
    "print(\"# users who started experiment: {}, # users who finished experiment: {}\".format(len(usrs_all), len(usrs_all)-len(blacklist)))\n",
    "\n",
    "usrs = np.array([x for x in usrs_all if x not in blacklist and not np.isnan(x)])\n",
    "\n",
    "tol_gr = []\n",
    "for us_idx in usrs:\n",
    "    tol_gr.append(0 if questions.loc[questions.user_id==us_idx,'correct'].iloc[0] == 'war_and_peace' else 1)\n",
    "\n",
    "_,prop_texts = np.unique(tol_gr, return_counts=True)\n",
    "print('# valid users read war and peace: {}, # valid who read Grimm: {}'.format(prop_texts[0], prop_texts[1]))\n",
    "\n"
   ]
  },
  {
   "cell_type": "markdown",
   "metadata": {},
   "source": [
    "## Processing pipe"
   ]
  },
  {
   "cell_type": "code",
   "execution_count": 173,
   "metadata": {},
   "outputs": [],
   "source": [
    "class Preprocessor(BaseEstimator, TransformerMixin):\n",
    "    def __init__(self):\n",
    "        pass\n",
    "    \n",
    "    def _normalize_coords(self, df):\n",
    "        df['x_norm'] = df.x/df.screen_width\n",
    "        df['y_norm'] = df.y/df.screen_height\n",
    "        loc_norm = []\n",
    "        for usr in np.unique(df.user_id):\n",
    "            df_usr = df.loc[df.user_id==usr]\n",
    "            loc_norm = loc_norm+list(df_usr.screen_loc/df_usr.screen_loc.max())\n",
    "        df['loc_norm'] = loc_norm\n",
    "        return df\n",
    "\n",
    "    def _get_polar(self, df):\n",
    "        df['cur_polar'] = np.arctan2(list(df.y_norm),list(df.x_norm))\n",
    "        df['cur_velocity'] = np.sqrt(list(df.x_norm**2 + df.y_norm**2))\n",
    "        return df\n",
    "\n",
    "    def _get_trajectories(self,df):\n",
    "        traj_loc = []\n",
    "        traj_cur =  []\n",
    "        for usr in np.unique(df.user_id):\n",
    "            df_usr = df.loc[df.user_id==usr]\n",
    "            traj_loc = traj_loc + list(df_usr.loc_norm.rolling(2).apply(lambda x: x[1]-x[0],raw=True))\n",
    "            traj_cur = traj_cur + list(np.arctan2(df_usr.x_norm.rolling(2).apply(lambda x: x[1]-x[0],raw=True),\n",
    "                                                  df_usr.y_norm.rolling(2).apply(lambda x: x[1]-x[0],raw=True)))\n",
    "        df['traj_loc'] = traj_loc\n",
    "        df['traj_cur'] = traj_cur\n",
    "        return df\n",
    "    \n",
    "    def _get_hesitation(self,df):\n",
    "        hesitation = []\n",
    "        for user in np.unique(df.user_id):\n",
    "            df_usr = df.loc[df.user_id==user].sort_values('id')\n",
    "            timepts = pd.to_datetime(df_usr.timestamp)\n",
    "            a = pd.to_datetime([np.nan]+list(df_usr.timestamp))\n",
    "            b = pd.to_datetime(list(df_usr.timestamp)+[np.nan])\n",
    "            c = list((b-a).seconds)\n",
    "            hesitation = hesitation + c[:-1]\n",
    "        df['hesitation'] = hesitation\n",
    "        return df\n",
    "    \n",
    "    def _slice_probe_windows(self, df):\n",
    "        # interval length = 30 seconds\n",
    "        intervals = []\n",
    "        for _,probe in probes.iterrows():\n",
    "            FMT = '%Y-%m-%d %H:%M:%S'\n",
    "            ts = pd.Timestamp(probe.timestamp)\n",
    "            usr = probe.user_id\n",
    "            if usr in np.unique(df.user_id):\n",
    "                ts_int = pd.Interval(ts-pd.Timedelta(30,unit='seconds'),ts,closed='both')\n",
    "                # Get cumulative clicks\n",
    "                df_int = df.loc[np.logical_and(df.user_id==usr,\n",
    "                                               [x in ts_int for x in pd.to_datetime(df.timestamp)])].copy()\n",
    "                df_int['lclick_cumu'] = [df_int.clicked_left.sum()]*len(df_int)\n",
    "                df_int['rclick_cumu'] = [df_int.clicked_right.sum()]*len(df_int)\n",
    "                # if empty slice (only on invalid subjects)\n",
    "                try:\n",
    "                    df_int['spec'] = [np.mean(np.abs(np.fft.fft(df_int.cur_velocity)))]*len(df_int)\n",
    "                except ValueError:\n",
    "                    print('WARNING EMPTY SLICE')\n",
    "                    df_int['spec'] = [0]*len(df_int)\n",
    "                intervals.append(df_int[['x_norm','y_norm','loc_norm','cur_polar','cur_velocity','hesitation',\n",
    "                                        'traj_loc','traj_cur',\n",
    "#                                          'lclick_cumu','rclick_cumu','spec'\n",
    "                                        ]])\n",
    "        return intervals\n",
    "    \n",
    "    def _average_windows(self, df):\n",
    "        res_mat = pd.DataFrame(columns=df[0].columns)\n",
    "        for interv in df:\n",
    "            res_mat = res_mat.append(pd.DataFrame(np.array(interv.mean()).reshape(1,len(df[0].columns)),\n",
    "                                                  columns=df[0].columns))\n",
    "        return res_mat\n",
    "    \n",
    "    def fit(self, X, y=None):\n",
    "        return self\n",
    "        \n",
    "    def transform(self, X):\n",
    "        res_mat = X.copy()\n",
    "        res_mat = self._normalize_coords(res_mat)\n",
    "        res_mat = self._get_polar(res_mat)\n",
    "        res_mat = self._get_trajectories(res_mat)\n",
    "        res_mat = self._get_hesitation(res_mat)\n",
    "        res_mat = self._slice_probe_windows(res_mat)\n",
    "        res_mat = self._average_windows(res_mat)\n",
    "        return np.array(res_mat)"
   ]
  },
  {
   "cell_type": "markdown",
   "metadata": {},
   "source": [
    "## Do analysis"
   ]
  },
  {
   "cell_type": "code",
   "execution_count": 174,
   "metadata": {},
   "outputs": [
    {
     "data": {
      "application/vnd.jupyter.widget-view+json": {
       "model_id": "1e71a5090d1d455789ea533820c01de6",
       "version_major": 2,
       "version_minor": 0
      },
      "text/plain": [
       "HBox(children=(IntProgress(value=1, bar_style='info', max=1), HTML(value='')))"
      ]
     },
     "metadata": {},
     "output_type": "display_data"
    },
    {
     "name": "stdout",
     "output_type": "stream",
     "text": [
      "Left-out subjects:[2. 3.], F1-score:0.58, Precision:0.625, Recall:0.614\n",
      "Left-out subjects:[4. 5.], F1-score:0.4, Precision:0.4, Recall:0.4\n",
      "Left-out subjects:[6. 7.], F1-score:0.429, Precision:0.409, Recall:0.45\n",
      "Left-out subjects:[ 9. 10.], F1-score:0.567, Precision:0.614, Recall:0.569\n",
      "Left-out subjects:[11. 14.], F1-score:0.7, Precision:0.909, Recall:0.667\n",
      "Left-out subjects:[15. 16.], F1-score:0.7, Precision:0.7, Recall:0.7\n",
      "Left-out subjects:[17. 18.], F1-score:0.625, Precision:0.667, Recall:0.629\n",
      "Left-out subjects:[19. 22.], F1-score:0.556, Precision:0.611, Recall:0.583\n",
      "Left-out subjects:[23. 24.], F1-score:0.576, Precision:0.846, Recall:0.6\n",
      "Left-out subjects:[25. 26.], F1-score:0.455, Precision:0.455, Recall:0.455\n"
     ]
    },
    {
     "name": "stderr",
     "output_type": "stream",
     "text": [
      "C:\\Users\\fwalo\\Anaconda3\\lib\\site-packages\\sklearn\\metrics\\classification.py:1145: UndefinedMetricWarning: Recall and F-score are ill-defined and being set to 0.0 in labels with no true samples.\n",
      "  'recall', 'true', average, warn_for)\n",
      "C:\\Users\\fwalo\\Anaconda3\\lib\\site-packages\\sklearn\\metrics\\classification.py:1145: UndefinedMetricWarning: Recall and F-score are ill-defined and being set to 0.0 in labels with no true samples.\n",
      "  'recall', 'true', average, warn_for)\n",
      "C:\\Users\\fwalo\\Anaconda3\\lib\\site-packages\\sklearn\\metrics\\classification.py:1145: UndefinedMetricWarning: Recall and F-score are ill-defined and being set to 0.0 in labels with no true samples.\n",
      "  'recall', 'true', average, warn_for)\n",
      "C:\\Users\\fwalo\\Anaconda3\\lib\\site-packages\\sklearn\\metrics\\classification.py:1145: UndefinedMetricWarning: Recall and F-score are ill-defined and being set to 0.0 in labels with no true samples.\n",
      "  'recall', 'true', average, warn_for)\n",
      "C:\\Users\\fwalo\\Anaconda3\\lib\\site-packages\\sklearn\\metrics\\classification.py:1145: UndefinedMetricWarning: Recall and F-score are ill-defined and being set to 0.0 in labels with no true samples.\n",
      "  'recall', 'true', average, warn_for)\n",
      "C:\\Users\\fwalo\\Anaconda3\\lib\\site-packages\\sklearn\\metrics\\classification.py:1145: UndefinedMetricWarning: Recall and F-score are ill-defined and being set to 0.0 in labels with no true samples.\n",
      "  'recall', 'true', average, warn_for)\n",
      "C:\\Users\\fwalo\\Anaconda3\\lib\\site-packages\\sklearn\\metrics\\classification.py:1145: UndefinedMetricWarning: Recall and F-score are ill-defined and being set to 0.0 in labels with no true samples.\n",
      "  'recall', 'true', average, warn_for)\n",
      "C:\\Users\\fwalo\\Anaconda3\\lib\\site-packages\\sklearn\\metrics\\classification.py:1145: UndefinedMetricWarning: Recall and F-score are ill-defined and being set to 0.0 in labels with no true samples.\n",
      "  'recall', 'true', average, warn_for)\n",
      "C:\\Users\\fwalo\\Anaconda3\\lib\\site-packages\\sklearn\\metrics\\classification.py:1145: UndefinedMetricWarning: Recall and F-score are ill-defined and being set to 0.0 in labels with no true samples.\n",
      "  'recall', 'true', average, warn_for)\n"
     ]
    },
    {
     "name": "stdout",
     "output_type": "stream",
     "text": [
      "Left-out subjects:[27. 30.], F1-score:0.368, Precision:0.5, Recall:0.292\n",
      "Left-out subjects:[32. 33.], F1-score:0.496, Precision:0.5, Recall:0.5\n",
      "Average F1:0.538, average Precision: 0.603, average Recall: 0.538\n",
      "Random baseline: F1:0.445, precision:0.485, recall:0.502\n"
     ]
    }
   ],
   "source": [
    "# Convergence warning and only 1 label found in test warning\n",
    "#warnings.filterwarnings(\"ignore\")\n",
    "\n",
    "prec, rec, f1 = [],[],[]\n",
    "prec_rand, rec_rand, f1_rand = [],[],[]\n",
    "\n",
    "idx = 0\n",
    "kf = KFold(n_splits=12)\n",
    "for train, test in tqdm(kf.split(usrs)):\n",
    "#     print('Fold nr: {}/{}, )\n",
    "    X_train = records.loc[[x in usrs[train] for x in records.user_id]]\n",
    "    X_test = records.loc[[x in usrs[test] for x in records.user_id]]\n",
    "    y_train = labels[[x in usrs[train] for x in probes.user_id]]\n",
    "    y_test = labels[[x in usrs[test] for x in probes.user_id]]\n",
    "    rf = RandomForestClassifier(n_jobs=-1, class_weight='balanced', max_depth=5)\n",
    "    pipe = Pipeline(steps = [('preprocessing', Preprocessor()),#])\n",
    "                             #('feat_select', BorutaPy(rf, n_estimators='auto', verbose=2, random_state=42)),\n",
    "                             ('clf', RandomForestClassifier(n_estimators=10,n_jobs=-1, class_weight='balanced', max_depth=5))]).fit(X_train, y_train)\n",
    "\n",
    "    y_pred = pipe.predict(X_test)\n",
    "    idx+=1\n",
    "    clrp = classification_report(y_test,y_pred, output_dict=True)\n",
    "    clrp_random = classification_report(y_test, np.random.rand(len(y_test))<0.5,output_dict=True)\n",
    "    f1.append(round(clrp['macro avg']['f1-score'],3))\n",
    "    prec.append(round(clrp['macro avg']['precision'],3))\n",
    "    rec.append(round(clrp['macro avg']['recall'],3))\n",
    "    clrp_random = classification_report(y_test, np.random.rand(len(y_test))<0.5,output_dict=True)\n",
    "    f1_rand.append(round(clrp_random['macro avg']['f1-score'],3))\n",
    "    prec_rand.append(round(clrp_random['macro avg']['precision'],3))\n",
    "    rec_rand.append(round(clrp_random['macro avg']['recall'],3))\n",
    "    print('Left-out subjects:{}, F1-score:{}, Precision:{}, Recall:{}'.format(usrs[test],f1[-1],prec[-1],rec[-1]))\n",
    "print('Average F1:{}, average Precision: {}, average Recall: {}'.format(round(np.mean(f1),3), \n",
    "                                                                        round(np.mean(prec),3), \n",
    "                                                                        round(np.mean(rec),3)))\n",
    "\n",
    "print('Random baseline: F1:{}, precision:{}, recall:{}'.format(round(np.mean(f1_rand),3), \n",
    "                                                               round(np.mean(prec_rand),3), \n",
    "                                                               round(np.mean(rec_rand),3)))"
   ]
  },
  {
   "cell_type": "code",
   "execution_count": 181,
   "metadata": {},
   "outputs": [
    {
     "name": "stderr",
     "output_type": "stream",
     "text": [
      "C:\\Users\\fwalo\\Anaconda3\\lib\\site-packages\\scipy\\stats\\stats.py:1713: FutureWarning: Using a non-tuple sequence for multidimensional indexing is deprecated; use `arr[tuple(seq)]` instead of `arr[seq]`. In the future this will be interpreted as an array index, `arr[np.array(seq)]`, which will result either in an error or a different result.\n",
      "  return np.add.reduce(sorted[indexer] * weights, axis=axis) / sumval\n"
     ]
    },
    {
     "data": {
      "text/plain": [
       "Text(0,0.5,'f1-score')"
      ]
     },
     "execution_count": 181,
     "metadata": {},
     "output_type": "execute_result"
    },
    {
     "data": {
      "image/png": "[encoded data removed]",
      "text/plain": [
       "<Figure size 864x576 with 1 Axes>"
      ]
     },
     "metadata": {},
     "output_type": "display_data"
    }
   ],
   "source": [
    "import seaborn as sns\n",
    "res = pd.DataFrame()\n",
    "res['Results'] = f1\n",
    "res['Baseline'] = f1_rand\n",
    "plt.figure(figsize=(12,8))\n",
    "plt.xticks(fontsize=16)\n",
    "sns.barplot(data=res)\n",
    "plt.ylabel('f1-score',fontsize=16)"
   ]
  },
  {
   "cell_type": "code",
   "execution_count": 188,
   "metadata": {},
   "outputs": [
    {
     "name": "stdout",
     "output_type": "stream",
     "text": [
      "Significance? p=0.0509\n"
     ]
    }
   ],
   "source": [
    "import scipy \n",
    "\n",
    "res = scipy.stats.ttest_rel(f1,f1_rand)\n",
    "# since 1 sided\n",
    "print('Significance? p={}'.format(round(res.pvalue/2,4)))"
   ]
  }
 ],
 "metadata": {
  "kernelspec": {
   "display_name": "Python 3",
   "language": "python",
   "name": "python3"
  },
  "language_info": {
   "codemirror_mode": {
    "name": "ipython",
    "version": 3
   },
   "file_extension": ".py",
   "mimetype": "text/x-python",
   "name": "python",
   "nbconvert_exporter": "python",
   "pygments_lexer": "ipython3",
   "version": "3.6.8"
  }
 },
 "nbformat": 4,
 "nbformat_minor": 2
}
