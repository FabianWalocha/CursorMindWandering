{
 "cells": [
  {
   "cell_type": "markdown",
   "metadata": {},
   "source": [
    "## Imports"
   ]
  },
  {
   "cell_type": "code",
   "execution_count": 1,
   "metadata": {},
   "outputs": [],
   "source": [
    "import pandas as pd\n",
    "import math\n",
    "from sklearn.base import BaseEstimator, TransformerMixin\n",
    "import numpy as np\n",
    "from tqdm import tqdm_notebook as tqdm\n",
    "from boruta import BorutaPy\n",
    "from sklearn.pipeline import Pipeline\n",
    "from sklearn.ensemble import RandomForestClassifier, GradientBoostingClassifier\n",
    "from sklearn.svm import LinearSVC\n",
    "from sklearn.naive_bayes import GaussianNB\n",
    "from sklearn.model_selection import KFold\n",
    "from sklearn.metrics import classification_report, f1_score, precision_score, recall_score, accuracy_score\n",
    "import warnings\n",
    "from matplotlib import pyplot as plt"
   ]
  },
  {
   "cell_type": "markdown",
   "metadata": {},
   "source": [
    "## Data Read-in"
   ]
  },
  {
   "cell_type": "code",
   "execution_count": 2,
   "metadata": {},
   "outputs": [],
   "source": [
    "probes = pd.read_csv('probes.csv',sep='\\t', encoding='utf-8', header=None)\n",
    "probes.columns = ['id','created_at','updated_at','deleted_at','timestamp',\n",
    "                  'user_id','answer','page_nr','delay_time','time_to_answer']\n",
    "\n",
    "\n",
    "questionnaires = pd.DataFrame(columns=['id','created_at','updated_at','deleted_at','screen_width',\n",
    "                                      'screen_height','age','gender','level_of_education',\n",
    "                                      'using_mouse','read_war_and_peace','read_grimm'])\n",
    "\n",
    "with open('questionnaires.csv','r',encoding='utf-8') as f:\n",
    "    for line in f:\n",
    "        spl = line[1:-2].split('\\t')\n",
    "        questionnaires = questionnaires.append(pd.DataFrame(np.array(spl).reshape(1,-1),columns=['id','created_at','updated_at','deleted_at','screen_width',\n",
    "                                      'screen_height','age','gender','level_of_education',\n",
    "                                      'using_mouse','read_war_and_peace','read_grimm']))\n",
    "\n",
    "questions = pd.read_csv('questions.csv',sep='\\t', encoding='utf-8', header=None)\n",
    "questions.columns = ['id','created_at','updated_at','deleted_at','user_id',\n",
    "                     'correct','page_nr','book']\n",
    "\n",
    "records = pd.read_csv('records.csv',sep='\\t', encoding='utf-8', header=None)\n",
    "records.columns= ['id','created_at','updated_at', 'deleted_at','timestamp','user_id',\n",
    "                 'clicked_left', 'clicked_right','on_screen','screen_loc','x','y',\n",
    "                 'screen_width','screen_height']"
   ]
  },
  {
   "cell_type": "markdown",
   "metadata": {},
   "source": [
    "## Some relevant statistics"
   ]
  },
  {
   "cell_type": "code",
   "execution_count": 3,
   "metadata": {},
   "outputs": [
    {
     "name": "stdout",
     "output_type": "stream",
     "text": [
      "# participants total:34\n",
      "# female:19, # male:15\n",
      "average age:30\n",
      "median age:25\n",
      "71.4% not mindwandering, 28.6% mindwandering\n",
      "# users who started experiment: 29, # users who finished experiment: 24\n",
      "# valid users read war and peace: 14, # valid who read Grimm: 10\n"
     ]
    },
    {
     "data": {
      "text/plain": [
       "([<matplotlib.patches.Wedge at 0x2bda55d9080>,\n",
       "  <matplotlib.patches.Wedge at 0x2bda55d9550>,\n",
       "  <matplotlib.patches.Wedge at 0x2bda55d9a20>],\n",
       " [Text(0.741065,0.81291,'bachelors'),\n",
       "  Text(-0.490312,0.98468,'high_education'),\n",
       "  Text(-0.397366,-1.02572,'masters')])"
      ]
     },
     "execution_count": 3,
     "metadata": {},
     "output_type": "execute_result"
    },
    {
     "data": {
      "image/png": "[encoded data removed]",
      "text/plain": [
       "<Figure size 576x576 with 1 Axes>"
      ]
     },
     "metadata": {},
     "output_type": "display_data"
    }
   ],
   "source": [
    "labels = np.array([0 if val.answer in [1,2] else 1 for _,val in probes.iterrows()])\n",
    "\n",
    "print('# participants total:{}'.format(len(questionnaires)))\n",
    "\n",
    "gen,count = np.unique(questionnaires.gender,return_counts=True)\n",
    "print('# female:{}, # male:{}'.format(count[0], count[1]))\n",
    "\n",
    "print('average age:{}'.format(round(questionnaires.age.astype(int).mean()),2))\n",
    "print('median age:{}'.format(round(questionnaires.age.astype(int).median()),2))\n",
    "\n",
    "_,count = np.unique(labels,return_counts=True)\n",
    "percs = np.round(count/np.sum(count)*100,1)\n",
    "print(\"{}% not mindwandering, {}% mindwandering\".format(percs[0], percs[1]))\n",
    "\n",
    "# users who did not finish the experiment\n",
    "usrs_all = np.unique(probes.user_id)\n",
    "blacklist = usrs_all[np.array([len(probes.user_id.loc[probes.user_id==usr]) for usr in usrs_all])<6]\n",
    "print(\"# users who started experiment: {}, # users who finished experiment: {}\".format(len(usrs_all), len(usrs_all)-len(blacklist)))\n",
    "\n",
    "usrs = np.array([x for x in usrs_all if x not in blacklist and not np.isnan(x)])\n",
    "\n",
    "tol_gr = []\n",
    "for us_idx in usrs:\n",
    "    tol_gr.append(0 if questions.loc[questions.user_id==us_idx,'correct'].iloc[0] == 'war_and_peace' else 1)\n",
    "\n",
    "_,prop_texts = np.unique(tol_gr, return_counts=True)\n",
    "print('# valid users read war and peace: {}, # valid who read Grimm: {}'.format(prop_texts[0], prop_texts[1]))\n",
    "\n",
    "\n",
    "plt.figure(figsize=(8,8))\n",
    "lab,count = np.unique(questionnaires.level_of_education,return_counts=True)\n",
    "plt.pie(count, labels=lab, textprops={'fontsize': 14})"
   ]
  },
  {
   "cell_type": "markdown",
   "metadata": {},
   "source": [
    "## Processing pipe"
   ]
  },
  {
   "cell_type": "code",
   "execution_count": 4,
   "metadata": {},
   "outputs": [],
   "source": [
    "class Preprocessor(BaseEstimator, TransformerMixin):\n",
    "    def __init__(self, feat_sel = []):\n",
    "        self.feat_sel = feat_sel\n",
    "        pass\n",
    "    \n",
    "    def _normalize_coords(self, df):\n",
    "        df['x_norm'] = df.x/df.screen_width\n",
    "        df['y_norm'] = df.y/df.screen_height\n",
    "        loc_norm = []\n",
    "        for usr in np.unique(df.user_id):\n",
    "            df_usr = df.loc[df.user_id==usr]\n",
    "            loc_norm = loc_norm+list(df_usr.screen_loc/df_usr.screen_loc.max())\n",
    "        df['loc_norm'] = loc_norm\n",
    "        return df\n",
    "\n",
    "    def _get_polar(self, df):\n",
    "        df['cur_polar'] = np.arctan2(list(df.y_norm),list(df.x_norm))\n",
    "        df['cur_velocity'] = np.sqrt(list(df.x_norm**2 + df.y_norm**2))\n",
    "        return df\n",
    "\n",
    "    def _get_trajectories(self,df):\n",
    "        traj_loc = []\n",
    "        traj_pol =  []\n",
    "        traj_velocity = []\n",
    "        for usr in np.unique(df.user_id):\n",
    "            df_usr = df.loc[df.user_id==usr]\n",
    "            traj_loc = traj_loc + list(df_usr.loc_norm.rolling(2).apply(lambda x: x[1]-x[0],raw=True))\n",
    "            traj_x = df_usr.x_norm.rolling(2).apply(lambda x: x[1]-x[0],raw=True)\n",
    "            traj_y = df_usr.y_norm.rolling(2).apply(lambda x: x[1]-x[0],raw=True)\n",
    "            traj_pol = traj_pol + list(np.arctan2(traj_x,traj_y))\n",
    "            traj_velocity = traj_velocity + list(np.sqrt(np.array(traj_x)**2+ np.array(traj_y)**2))\n",
    "            \n",
    "        df['traj_loc'] = traj_loc\n",
    "        df['traj_pol'] = traj_pol\n",
    "        df['traj_velocity'] = traj_velocity\n",
    "        return df\n",
    "    \n",
    "    def _get_hesitation(self,df):\n",
    "        hesitation = []\n",
    "        for user in np.unique(df.user_id):\n",
    "            df_usr = df.loc[df.user_id==user].sort_values('id')\n",
    "            timepts = pd.to_datetime(df_usr.timestamp)\n",
    "            a = pd.to_datetime([np.nan]+list(df_usr.timestamp))\n",
    "            b = pd.to_datetime(list(df_usr.timestamp)+[np.nan])\n",
    "            c = list((b-a).seconds)\n",
    "            hesitation = hesitation + c[:-1]\n",
    "        df['hesitation'] = hesitation\n",
    "        return df\n",
    "    \n",
    "    def _slice_probe_windows(self, df):\n",
    "        # interval length = 30 seconds\n",
    "        intervals = []\n",
    "        for _,probe in probes.iterrows():\n",
    "            FMT = '%Y-%m-%d %H:%M:%S'\n",
    "            ts = pd.Timestamp(probe.timestamp)\n",
    "            usr = probe.user_id\n",
    "            if usr in np.unique(df.user_id):\n",
    "                ts_int = pd.Interval(ts-pd.Timedelta(30,unit='seconds'),ts,closed='both')\n",
    "                # Get cumulative clicks\n",
    "                df_int = df.loc[np.logical_and(df.user_id==usr,\n",
    "                                               [x in ts_int for x in pd.to_datetime(df.timestamp)])].copy()\n",
    "                # if empty slice (only on invalid subjects)\n",
    "                df_int['cur_spec'] = [np.max(np.abs(np.fft.fft(df_int.cur_velocity)))]*len(df_int)\n",
    "                df_int['traj_spec'] = [np.max(np.abs(np.fft.fft(df_int.traj_velocity)))]*len(df_int)\n",
    "                intervals.append(df_int[[#'x_norm','y_norm','loc_norm',\n",
    "                    'cur_polar','cur_velocity','hesitation',\n",
    "                    'traj_loc','traj_pol','traj_velocity','clicked_right','clicked_left',\n",
    "                    'cur_spec', 'traj_spec'\n",
    "                ]])\n",
    "        return intervals\n",
    "    \n",
    "    def _average_windows(self, df):\n",
    "        res_mat = pd.DataFrame(columns=df[0].columns)\n",
    "        for interv in df:\n",
    "            res_mat = res_mat.append(pd.DataFrame(np.array(interv.mean()).reshape(1,len(df[0].columns)),\n",
    "                                                  columns=df[0].columns))\n",
    "        return res_mat\n",
    "    \n",
    "    def _feature_select(self, df):\n",
    "        return df.drop(columns=self.feat_sel)\n",
    "    \n",
    "    def fit(self, X, y=None):\n",
    "        return self\n",
    "        \n",
    "    def transform(self, X):\n",
    "        res_mat = X.copy()\n",
    "        res_mat = self._normalize_coords(res_mat)\n",
    "        res_mat = self._get_polar(res_mat)\n",
    "        res_mat = self._get_trajectories(res_mat)\n",
    "        res_mat = self._get_hesitation(res_mat)\n",
    "        res_mat = self._slice_probe_windows(res_mat)\n",
    "        res_mat = self._average_windows(res_mat)\n",
    "        res_mat = self._feature_select(res_mat)\n",
    "        return res_mat"
   ]
  },
  {
   "cell_type": "markdown",
   "metadata": {},
   "source": [
    "## Feature Selection"
   ]
  },
  {
   "cell_type": "code",
   "execution_count": 5,
   "metadata": {},
   "outputs": [],
   "source": [
    "X = records.loc[[x in usrs for x in records.user_id]]\n",
    "y = labels[[x in usrs for x in probes.user_id]]\n",
    "prep = Preprocessor()\n",
    "X = prep.transform(X)"
   ]
  },
  {
   "cell_type": "code",
   "execution_count": 6,
   "metadata": {},
   "outputs": [
    {
     "name": "stdout",
     "output_type": "stream",
     "text": [
      "Features discarded:['cur_polar', 'cur_velocity', 'hesitation', 'traj_pol', 'traj_velocity', 'clicked_right', 'clicked_left', 'cur_spec', 'traj_spec']\n",
      "[ 3  6  7  1  4  9 10  2  5  8]\n"
     ]
    }
   ],
   "source": [
    "rf = RandomForestClassifier(n_estimators=10,n_jobs=-1, class_weight='balanced', max_depth=3)\n",
    "featsel = BorutaPy(rf, n_estimators='auto', verbose=0, random_state=42, perc=90)\n",
    "featsel.fit(np.array(X),y)\n",
    "mask = featsel.support_\n",
    "disc = [x for idx, x in enumerate(X.columns) if not mask[idx]]\n",
    "print('Features discarded:{}'.format(disc))\n",
    "print(featsel.ranking_)"
   ]
  },
  {
   "cell_type": "code",
   "execution_count": 7,
   "metadata": {},
   "outputs": [
    {
     "name": "stdout",
     "output_type": "stream",
     "text": [
      "[Index(['traj_loc'], dtype='object')]\n",
      "[Index(['clicked_left'], dtype='object')]\n",
      "[Index(['cur_polar'], dtype='object')]\n",
      "[Index(['traj_pol'], dtype='object')]\n",
      "[Index(['cur_spec'], dtype='object')]\n",
      "[Index(['cur_velocity'], dtype='object')]\n",
      "[Index(['hesitation'], dtype='object')]\n",
      "[Index(['traj_spec'], dtype='object')]\n",
      "[Index(['traj_velocity'], dtype='object')]\n",
      "[Index(['clicked_right'], dtype='object')]\n"
     ]
    }
   ],
   "source": [
    "for ranking in range(1,max(featsel.ranking_)+1):\n",
    "    print([X.columns[idx] for idx in np.where(featsel.ranking_==ranking)])"
   ]
  },
  {
   "cell_type": "markdown",
   "metadata": {},
   "source": [
    "## Do analysis"
   ]
  },
  {
   "cell_type": "code",
   "execution_count": 8,
   "metadata": {},
   "outputs": [
    {
     "name": "stdout",
     "output_type": "stream",
     "text": [
      "Features discarded:['traj_velocity', 'clicked_right']\n"
     ]
    }
   ],
   "source": [
    "rf = RandomForestClassifier(n_estimators=10,n_jobs=-1, class_weight='balanced', max_depth=3)\n",
    "featsel = BorutaPy(rf, n_estimators='auto', verbose=0, random_state=42, perc=10)\n",
    "featsel.fit(np.array(X),y)\n",
    "mask = featsel.support_\n",
    "disc = [x for idx, x in enumerate(X.columns) if not mask[idx]]\n",
    "print('Features discarded:{}'.format(disc))"
   ]
  },
  {
   "cell_type": "code",
   "execution_count": 9,
   "metadata": {},
   "outputs": [
    {
     "data": {
      "application/vnd.jupyter.widget-view+json": {
       "model_id": "ba2407c7eafb468aba087cb6b7cec8f8",
       "version_major": 2,
       "version_minor": 0
      },
      "text/plain": [
       "HBox(children=(IntProgress(value=1, bar_style='info', max=1), HTML(value='')))"
      ]
     },
     "metadata": {},
     "output_type": "display_data"
    },
    {
     "name": "stdout",
     "output_type": "stream",
     "text": [
      "Left-out subjects:[11. 18. 33.], F1-score:0.379, Precision:0.367, Recall:0.393, Accuracy:0.611\n"
     ]
    },
    {
     "name": "stderr",
     "output_type": "stream",
     "text": [
      "C:\\Users\\fwalo\\Anaconda3\\lib\\site-packages\\sklearn\\metrics\\classification.py:1143: UndefinedMetricWarning: F-score is ill-defined and being set to 0.0 in labels with no predicted samples.\n",
      "  'precision', 'predicted', average, warn_for)\n",
      "C:\\Users\\fwalo\\Anaconda3\\lib\\site-packages\\sklearn\\metrics\\classification.py:1143: UndefinedMetricWarning: Precision is ill-defined and being set to 0.0 in labels with no predicted samples.\n",
      "  'precision', 'predicted', average, warn_for)\n"
     ]
    },
    {
     "name": "stdout",
     "output_type": "stream",
     "text": [
      "Left-out subjects:[ 2. 10. 17.], F1-score:0.424, Precision:0.368, Recall:0.5, Accuracy:0.737\n",
      "Left-out subjects:[ 7. 24. 26.], F1-score:0.608, Precision:0.608, Recall:0.608, Accuracy:0.8\n",
      "Left-out subjects:[ 3. 16. 19.], F1-score:0.63, Precision:0.844, Recall:0.643, Accuracy:0.722\n",
      "Left-out subjects:[15. 25. 30.], F1-score:0.411, Precision:0.5, Recall:0.5, Accuracy:0.5\n",
      "Left-out subjects:[ 4.  6. 27.], F1-score:0.455, Precision:0.469, Recall:0.441, Accuracy:0.833\n"
     ]
    },
    {
     "name": "stderr",
     "output_type": "stream",
     "text": [
      "C:\\Users\\fwalo\\Anaconda3\\lib\\site-packages\\sklearn\\metrics\\classification.py:1143: UndefinedMetricWarning: F-score is ill-defined and being set to 0.0 in labels with no predicted samples.\n",
      "  'precision', 'predicted', average, warn_for)\n",
      "C:\\Users\\fwalo\\Anaconda3\\lib\\site-packages\\sklearn\\metrics\\classification.py:1143: UndefinedMetricWarning: Precision is ill-defined and being set to 0.0 in labels with no predicted samples.\n",
      "  'precision', 'predicted', average, warn_for)\n"
     ]
    },
    {
     "name": "stdout",
     "output_type": "stream",
     "text": [
      "Left-out subjects:[ 5.  9. 14.], F1-score:0.333, Precision:0.25, Recall:0.5, Accuracy:0.5\n",
      "Left-out subjects:[22. 23. 32.], F1-score:0.663, Precision:0.708, Recall:0.688, Accuracy:0.667\n",
      "\n",
      "Average F1:0.488, average Precision: 0.514, average Recall: 0.534, average Accuracy\n",
      "Random baseline: F1:0.323, precision:0.28, recall:0.5, accuracy:0.503\n"
     ]
    }
   ],
   "source": [
    "# Convergence warning and only 1 label found in test warning\n",
    "#warnings.filterwarnings(\"ignore\")\n",
    "\n",
    "\n",
    "prec, rec, f1, acc = [],[],[],[]\n",
    "prec_rand, rec_rand, f1_rand, acc_rand = [],[],[],[]\n",
    "\n",
    "idx = 0\n",
    "kf = KFold(n_splits=8, shuffle=True)\n",
    "for train, test in tqdm(kf.split(usrs)):\n",
    "    X_train = records.loc[[x in usrs[train] for x in records.user_id]]\n",
    "    X_test = records.loc[[x in usrs[test] for x in records.user_id]]\n",
    "    y_train = labels[[x in usrs[train] for x in probes.user_id]]\n",
    "    y_test = labels[[x in usrs[test] for x in probes.user_id]]\n",
    "    pipe = Pipeline(steps = [('preprocessing', Preprocessor(feat_sel=disc)),\n",
    "                             ('clf', rf)]).fit(X_train, y_train)\n",
    "\n",
    "    y_pred = pipe.predict(X_test)\n",
    "    y_pred_train = pipe.fit(X_train,y_train).predict(X_train)\n",
    "    \n",
    "    idx+=1\n",
    "    \n",
    "    acc.append(accuracy_score(y_test,y_pred))\n",
    "    trials = np.random.rand(100,len(y_test))<0.5\n",
    "\n",
    "    acc_rand.append(np.mean([accuracy_score(y_test,trial) for trial in trials]))\n",
    "    \n",
    "    f1.append(f1_score(y_test, y_pred, average='macro')) \n",
    "    prec.append(precision_score(y_test, y_pred, average='macro'))\n",
    "    rec.append(recall_score(y_test, y_pred, average='macro'))\n",
    "    print('Left-out subjects:{}, F1-score:{}, Precision:{}, Recall:{}, Accuracy:{}'.format(usrs[test],\n",
    "                                                                              round(f1[-1],3),\n",
    "                                                                              round(prec[-1],3),\n",
    "                                                                              round(rec[-1],3),\n",
    "                                                                              round(acc[-1],3)))\n",
    "    f1_rand.append(np.mean([f1_score(y_test,  trial) for trial in trials]))\n",
    "    prec_rand.append(np.mean([precision_score(y_test,  trial) for trial in trials]))\n",
    "    rec_rand.append(np.mean([recall_score(y_test,  trial,) for trial in trials]))\n",
    "    \n",
    "print('Average F1:{}, average Precision: {}, average Recall: {}, average Accuracy'.format(round(np.mean(f1),3), \n",
    "                                                                                          round(np.mean(prec),3),\n",
    "                                                                                          round(np.mean(rec),3),\n",
    "                                                                                          round(np.mean(acc),3)))\n",
    "\n",
    "print('Random baseline: F1:{}, precision:{}, recall:{}, accuracy:{}'.format(round(np.mean(f1_rand),3), \n",
    "                                                               round(np.mean(prec_rand),3), \n",
    "                                                               round(np.mean(rec_rand),3),\n",
    "                                                               round(np.mean(acc_rand),3)))\n"
   ]
  },
  {
   "cell_type": "code",
   "execution_count": 10,
   "metadata": {},
   "outputs": [
    {
     "name": "stdout",
     "output_type": "stream",
     "text": [
      "Significance? p=0.0164\n"
     ]
    },
    {
     "name": "stderr",
     "output_type": "stream",
     "text": [
      "C:\\Users\\fwalo\\Anaconda3\\lib\\site-packages\\scipy\\stats\\stats.py:1713: FutureWarning: Using a non-tuple sequence for multidimensional indexing is deprecated; use `arr[tuple(seq)]` instead of `arr[seq]`. In the future this will be interpreted as an array index, `arr[np.array(seq)]`, which will result either in an error or a different result.\n",
      "  return np.add.reduce(sorted[indexer] * weights, axis=axis) / sumval\n"
     ]
    },
    {
     "data": {
      "text/plain": [
       "Text(0,0.5,'f1-score')"
      ]
     },
     "execution_count": 10,
     "metadata": {},
     "output_type": "execute_result"
    },
    {
     "data": {
      "image/png": "[encoded data removed]",
      "text/plain": [
       "<Figure size 864x576 with 1 Axes>"
      ]
     },
     "metadata": {},
     "output_type": "display_data"
    }
   ],
   "source": [
    "import seaborn as sns\n",
    "import scipy \n",
    "res = scipy.stats.ttest_rel(f1,f1_rand)\n",
    "# since 1 sided\n",
    "print('Significance? p={}'.format(round(res.pvalue/2,4)))\n",
    "\n",
    "res = pd.DataFrame()\n",
    "res['Results'] = f1\n",
    "res['Baseline'] = f1_rand\n",
    "plt.figure(figsize=(12,8))\n",
    "plt.xticks(fontsize=16)\n",
    "sns.barplot(data=res)\n",
    "plt.ylabel('f1-score',fontsize=16)"
   ]
  },
  {
   "cell_type": "code",
   "execution_count": 11,
   "metadata": {},
   "outputs": [
    {
     "name": "stdout",
     "output_type": "stream",
     "text": [
      "Significance? p=0.0036\n"
     ]
    },
    {
     "name": "stderr",
     "output_type": "stream",
     "text": [
      "C:\\Users\\fwalo\\Anaconda3\\lib\\site-packages\\scipy\\stats\\stats.py:1713: FutureWarning: Using a non-tuple sequence for multidimensional indexing is deprecated; use `arr[tuple(seq)]` instead of `arr[seq]`. In the future this will be interpreted as an array index, `arr[np.array(seq)]`, which will result either in an error or a different result.\n",
      "  return np.add.reduce(sorted[indexer] * weights, axis=axis) / sumval\n"
     ]
    },
    {
     "data": {
      "text/plain": [
       "Text(0,0.5,'Accuracy')"
      ]
     },
     "execution_count": 11,
     "metadata": {},
     "output_type": "execute_result"
    },
    {
     "data": {
      "image/png": "[encoded data removed]",
      "text/plain": [
       "<Figure size 864x576 with 1 Axes>"
      ]
     },
     "metadata": {},
     "output_type": "display_data"
    }
   ],
   "source": [
    "import seaborn as sns\n",
    "import scipy \n",
    "res = scipy.stats.ttest_rel(acc,acc_rand)\n",
    "# since 1 sided\n",
    "print('Significance? p={}'.format(round(res.pvalue/2,4)))\n",
    "\n",
    "\n",
    "res = pd.DataFrame()\n",
    "res['Results'] = acc\n",
    "res['Baseline'] = acc_rand\n",
    "plt.figure(figsize=(12,8))\n",
    "plt.xticks(fontsize=16)\n",
    "sns.barplot(data=res)\n",
    "plt.ylabel('Accuracy',fontsize=16)\n"
   ]
  },
  {
   "cell_type": "code",
   "execution_count": null,
   "metadata": {},
   "outputs": [],
   "source": []
  }
 ],
 "metadata": {
  "kernelspec": {
   "display_name": "Python 3",
   "language": "python",
   "name": "python3"
  },
  "language_info": {
   "codemirror_mode": {
    "name": "ipython",
    "version": 3
   },
   "file_extension": ".py",
   "mimetype": "text/x-python",
   "name": "python",
   "nbconvert_exporter": "python",
   "pygments_lexer": "ipython3",
   "version": "3.6.8"
  }
 },
 "nbformat": 4,
 "nbformat_minor": 2
}
